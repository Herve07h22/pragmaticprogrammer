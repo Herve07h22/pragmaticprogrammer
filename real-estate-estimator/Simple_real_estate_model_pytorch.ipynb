{
  "cells": [
    {
      "cell_type": "markdown",
      "metadata": {
        "id": "EKvQ-1u5RIif"
      },
      "source": [
        "# Ultra-basic real estate estimator with PyTorch\n",
        "In `pytorch`, we use `torch.Tensor` object to represent data matrix. The great thing with `torch.Tensor` is the `backward` API that computes the partial derivatives for each weight of the model. \n",
        "\n",
        "Let's how it works."
      ]
    },
    {
      "cell_type": "code",
      "execution_count": 19,
      "metadata": {
        "id": "1XtmBU62RIik"
      },
      "outputs": [],
      "source": [
        "from __future__ import print_function\n",
        "import torch\n",
        "import random"
      ]
    },
    {
      "cell_type": "markdown",
      "metadata": {
        "id": "7pGPvzsSRIim"
      },
      "source": [
        "A `torch.Tensor` looks like a regular Matrix. By setting the `requires_grad` to `True`, we can get a built-in gradient calculation. "
      ]
    },
    {
      "cell_type": "code",
      "execution_count": 20,
      "metadata": {
        "colab": {
          "base_uri": "https://localhost:8080/"
        },
        "id": "uCLC08_TRZDH",
        "outputId": "007d5bdb-2d63-4937-f588-9f5d2e21dae4"
      },
      "outputs": [
        {
          "name": "stdout",
          "output_type": "stream",
          "text": [
            "tensor(16., grad_fn=<SumBackward0>)\n",
            "tensor([[  0., -16.],\n",
            "        [ -0.,  16.]])\n",
            "tensor(5.7600, grad_fn=<SumBackward0>)\n"
          ]
        }
      ],
      "source": [
        "X = torch.tensor([[1., -1.], [1., 1.]], requires_grad=True)\n",
        "Y = torch.tensor([[2.,-2.]])\n",
        "YX = torch.mm(Y, X) # Y.X matrix product\n",
        "error = YX.pow(2).sum() # compute a scalar error  (a Tensor containing a single number)\n",
        "print(error) # tensor(16., grad_fn=<SumBackward0>) -> the tensor contains the gradient of the error\n",
        "\n",
        "error.backward()\n",
        "\n",
        "print(X.grad)\n",
        "#tensor([[  0., -16.],\n",
        "#        [ -0.,  16.]])\n",
        "\n",
        "# Now we have the 4 gradients -> we know how to adjust the 4 parameters of X to minimize the error\n",
        "learning_rate = 0.1\n",
        "newX = X - X.grad * learning_rate\n",
        "YX = torch.mm(Y, newX) \n",
        "error = YX.pow(2).sum() \n",
        "print(error) # tensor(5.76, grad_fn=<SumBackward0>) -> the tensor error drops from 16.0 to 5.76\n"
      ]
    },
    {
      "cell_type": "markdown",
      "metadata": {},
      "source": [
        "### Now, let's try to build a simple model.\n",
        "\n",
        "Firstly, we have to get some data. We generate a fictive set of prices, with 3 boolean features : \n",
        "- the age of the house (0=old, 1=recent)\n",
        "- the location (0=city, 1=suburd)\n",
        "- the size (0=small, 1=big)\n",
        "\n",
        "We also add a 4th feature constant (=1).\n",
        "\n",
        "We'll need the data to be normalized : `mean = 0`, `range = [-1, 1]`"
      ]
    },
    {
      "cell_type": "code",
      "execution_count": 21,
      "metadata": {
        "id": "YU3ybJKSDIe3"
      },
      "outputs": [],
      "source": [
        "def normalize(data):\n",
        "  prices = [estimation['price'] for estimation in data]\n",
        "  min_price = min(prices)\n",
        "  max_price = max(prices)\n",
        "  price_range = max_price - min_price\n",
        "  mean_price = sum(prices)/len(prices)\n",
        "  return [ {'price': (estimation['price']-mean_price)/price_range, 'features':estimation['features'] } for estimation in data ], mean_price, price_range\n",
        "\n"
      ]
    },
    {
      "cell_type": "markdown",
      "metadata": {},
      "source": [
        "This is our fictive training dataset."
      ]
    },
    {
      "cell_type": "code",
      "execution_count": 22,
      "metadata": {
        "colab": {
          "base_uri": "https://localhost:8080/"
        },
        "id": "goU-mykqBd3e",
        "outputId": "8ae35174-8b6c-46b4-ea9f-226f818cca7c"
      },
      "outputs": [],
      "source": [
        "data = [\n",
        "    {'price': 203602, 'features': [1., 1., 1., 1.]},\n",
        "    {'price': 185488, 'features': [0., 1., 1., 1.]},\n",
        "    {'price': 103203, 'features': [1., 1., 0., 1.]},\n",
        "    {'price': 81608, 'features': [0., 1., 0., 1.]},\n",
        "    {'price': 204089, 'features': [1., 1., 1., 1.]},\n",
        "    {'price': 185425, 'features': [0., 1., 1., 1.]},\n",
        "    {'price': 108829, 'features': [1., 1., 0., 1.]},\n",
        "    {'price': 85070, 'features': [0., 1., 0., 1.]},\n",
        "    {'price': 164995, 'features': [1., 0., 1., 1.]},\n",
        "    {'price': 145936, 'features': [0., 0., 1., 1.]},\n",
        "    {'price': 63804, 'features': [1., 0., 0., 1.]},\n",
        "    {'price': 41816, 'features': [0., 0., 0., 1.]},\n",
        "    {'price': 169410, 'features': [1., 0., 1., 1.]},\n",
        "    {'price': 143767, 'features': [0., 0., 1., 1.]},\n",
        "    {'price': 68952, 'features': [1., 0., 0., 1.]},\n",
        "    {'price': 49133, 'features': [0., 0., 0., 1.]},\n",
        "    {'price': 208421, 'features': [1., 1., 1., 1.]},\n",
        "    {'price': 185919, 'features': [0., 1., 1., 1.]},\n",
        "    {'price': 104752, 'features': [1., 1., 0., 1.]},\n",
        "    {'price': 87972, 'features': [0., 1., 0., 1.]},\n",
        "    {'price': 203095, 'features': [1., 1., 1., 1.]},\n",
        "    {'price': 182987, 'features': [0., 1., 1., 1.]},\n",
        "    {'price': 105929, 'features': [1., 1., 0., 1.]},\n",
        "    {'price': 81803, 'features': [0., 1., 0., 1.]},\n",
        "    {'price': 164606, 'features': [1., 0., 1., 1.]},\n",
        "    {'price': 149610, 'features': [0., 0., 1., 1.]},\n",
        "    {'price': 69360, 'features': [1., 0., 0., 1.]},\n",
        "    {'price': 48567, 'features': [0., 0., 0., 1.]},\n",
        "    {'price': 167751, 'features': [1., 0., 1., 1.]},\n",
        "    {'price': 145253, 'features': [0., 0., 1., 1.]},\n",
        "    {'price': 62292, 'features': [1., 0., 0., 1.]},\n",
        "    {'price': 40270, 'features': [0., 0., 0., 1.]},\n",
        "    {'price': 203670, 'features': [1., 1., 1., 1.]},\n",
        "    {'price': 189057, 'features': [0., 1., 1., 1.]},\n",
        "    {'price': 109181, 'features': [1., 1., 0., 1.]},\n",
        "    {'price': 83718, 'features': [0., 1., 0., 1.]},\n",
        "    {'price': 209023, 'features': [1., 1., 1., 1.]},\n",
        "    {'price': 181662, 'features': [0., 1., 1., 1.]},\n",
        "    {'price': 105240, 'features': [1., 1., 0., 1.]},\n",
        "    {'price': 89964, 'features': [0., 1., 0., 1.]},\n",
        "    {'price': 167683, 'features': [1., 0., 1., 1.]},\n",
        "    {'price': 146370, 'features': [0., 0., 1., 1.]},\n",
        "    {'price': 60447, 'features': [1., 0., 0., 1.]},\n",
        "    {'price': 44079, 'features': [0., 0., 0., 1.]},\n",
        "    {'price': 163198, 'features': [1., 0., 1., 1.]},\n",
        "    {'price': 140351, 'features': [0., 0., 1., 1.]},\n",
        "    {'price': 69402, 'features': [1., 0., 0., 1.]},\n",
        "    {'price': 41489, 'features': [0., 0., 0., 1.]}\n",
        "]\n",
        "random.shuffle(data)\n",
        "training_data, mean, amplitude = normalize(data)"
      ]
    },
    {
      "cell_type": "markdown",
      "metadata": {},
      "source": [
        "And an additionnal data set, to measure the performance of the trained model."
      ]
    },
    {
      "cell_type": "code",
      "execution_count": 23,
      "metadata": {
        "id": "o76iizhDIVRi"
      },
      "outputs": [],
      "source": [
        "validation = [\n",
        "    {'price': 204336, 'features': [1., 1., 1., 1.]},\n",
        "    {'price': 187985, 'features': [0., 1., 1., 1.]},\n",
        "    {'price': 102359, 'features': [1., 1., 0., 1.]},\n",
        "    {'price': 80877, 'features': [0., 1., 0., 1.]},\n",
        "    {'price': 205677, 'features': [1., 1., 1., 1.]},\n",
        "    {'price': 189538, 'features': [0., 1., 1., 1.]},\n",
        "    {'price': 107926, 'features': [1., 1., 0., 1.]},\n",
        "    {'price': 84547, 'features': [0., 1., 0., 1.]},\n",
        "    {'price': 165947, 'features': [1., 0., 1., 1.]},\n",
        "    {'price': 140893, 'features': [0., 0., 1., 1.]},\n",
        "    {'price': 67607, 'features': [1., 0., 0., 1.]},\n",
        "    {'price': 43645, 'features': [0., 0., 0., 1.]},\n",
        "    {'price': 163268, 'features': [1., 0., 1., 1.]},\n",
        "    {'price': 148483, 'features': [0., 0., 1., 1.]},\n",
        "    {'price': 66367, 'features': [1., 0., 0., 1.]},\n",
        "    {'price': 47951, 'features': [0., 0., 0., 1.]},\n",
        "    {'price': 206812, 'features': [1., 1., 1., 1.]},\n",
        "    {'price': 182590, 'features': [0., 1., 1., 1.]},\n",
        "    {'price': 105576, 'features': [1., 1., 0., 1.]},\n",
        "    {'price': 81945, 'features': [0., 1., 0., 1.]},\n",
        "    {'price': 206268, 'features': [1., 1., 1., 1.]},\n",
        "    {'price': 181688, 'features': [0., 1., 1., 1.]},\n",
        "    {'price': 101628, 'features': [1., 1., 0., 1.]},\n",
        "    {'price': 87166, 'features': [0., 1., 0., 1.]},\n",
        "    {'price': 161408, 'features': [1., 0., 1., 1.]},\n",
        "    {'price': 145788, 'features': [0., 0., 1., 1.]},\n",
        "    {'price': 68108, 'features': [1., 0., 0., 1.]},\n",
        "    {'price': 42171, 'features': [0., 0., 0., 1.]},\n",
        "    {'price': 160948, 'features': [1., 0., 1., 1.]},\n",
        "    {'price': 146560, 'features': [0., 0., 1., 1.]},\n",
        "    {'price': 63783, 'features': [1., 0., 0., 1.]},\n",
        "    {'price': 48589, 'features': [0., 0., 0., 1.]},\n",
        "    {'price': 207613, 'features': [1., 1., 1., 1.]},\n",
        "    {'price': 185696, 'features': [0., 1., 1., 1.]},\n",
        "    {'price': 102860, 'features': [1., 1., 0., 1.]},\n",
        "    {'price': 86879, 'features': [0., 1., 0., 1.]},\n",
        "    {'price': 205130, 'features': [1., 1., 1., 1.]},\n",
        "    {'price': 189379, 'features': [0., 1., 1., 1.]},\n",
        "    {'price': 100105, 'features': [1., 1., 0., 1.]},\n",
        "    {'price': 80001, 'features': [0., 1., 0., 1.]},\n",
        "    {'price': 168345, 'features': [1., 0., 1., 1.]},\n",
        "    {'price': 144731, 'features': [0., 0., 1., 1.]},\n",
        "    {'price': 67754, 'features': [1., 0., 0., 1.]},\n",
        "    {'price': 46734, 'features': [0., 0., 0., 1.]},\n",
        "    {'price': 162555, 'features': [1., 0., 1., 1.]},\n",
        "    {'price': 140001, 'features': [0., 0., 1., 1.]},\n",
        "    {'price': 67056, 'features': [1., 0., 0., 1.]},\n",
        "    {'price': 41378, 'features': [0., 0., 0., 1.]}\n",
        "]\n",
        "random.shuffle(validation)\n",
        "validation = [ {'price': (estimation['price']-mean)/amplitude, 'features':estimation['features'] } for estimation in validation ]"
      ]
    },
    {
      "cell_type": "markdown",
      "metadata": {},
      "source": [
        "This is our simple Model."
      ]
    },
    {
      "cell_type": "code",
      "execution_count": 24,
      "metadata": {
        "colab": {
          "base_uri": "https://localhost:8080/"
        },
        "id": "5z9zExwki2dq",
        "outputId": "c9372fc3-118a-48ef-d465-e115a47c4d44"
      },
      "outputs": [
        {
          "name": "stdout",
          "output_type": "stream",
          "text": [
            "Mean error for the validation dataset (€): 2491.212074656971\n"
          ]
        }
      ],
      "source": [
        "nb_agents = 4\n",
        "nb_supervisors = 2\n",
        "learning_rate = 0.05\n",
        "nb_iterations = 40\n",
        "\n",
        "flair_agents = torch.rand(4, nb_agents, requires_grad=True)\n",
        "flair_supervisor = torch.rand(nb_agents, nb_supervisors, requires_grad=True)\n",
        "weighted_mean = torch.rand(nb_supervisors, 1, requires_grad=True)\n",
        "# activitation func : X -> X\n",
        "\n",
        "def forward (X):\n",
        "  estimation_agents = torch.mm(X, flair_agents) \n",
        "  estimation_superviseur = torch.mm(estimation_agents, flair_supervisor) \n",
        "  estimation_finale = torch.mm(estimation_superviseur, weighted_mean) / nb_supervisors\n",
        "  return estimation_finale\n",
        "\n",
        "# training\n",
        "for epoch in range (0, nb_iterations):\n",
        "  for estimation in training_data:\n",
        "    # Step 1 : compute the error \n",
        "    X = torch.tensor([estimation['features']])\n",
        "    estimation_finale = forward(X)\n",
        "    erreur = (estimation_finale - torch.tensor([[estimation['price']]]) ).pow(2).sum()\n",
        "\n",
        "\n",
        "    # Step 2 : back-propagation\n",
        "    erreur.backward()\n",
        "\n",
        "    # Step 3 : update the parameters\n",
        "    weighted_mean = (weighted_mean - weighted_mean.grad * learning_rate).clone().detach().requires_grad_(True)\n",
        "    flair_supervisor = (flair_supervisor - flair_supervisor.grad * learning_rate).clone().detach().requires_grad_(True)\n",
        "    flair_agents = (flair_agents - flair_agents.grad * learning_rate).clone().detach().requires_grad_(True)\n",
        "\n",
        "# validation\n",
        "errors = []\n",
        "for v in validation:\n",
        "  X = torch.tensor([v['features']])\n",
        "  estimation_finale = forward(X)\n",
        "  erreur = (estimation_finale - torch.tensor([[v['price']]]) ).abs().sum()\n",
        "  errors.append(erreur.item() )\n",
        "\n",
        "print(\"Mean error for the validation dataset (€):\", amplitude * sum(errors) / len(errors) )\n"
      ]
    }
  ],
  "metadata": {
    "colab": {
      "name": "Preparation - 5 Minutes Pytorch Tensor Playground.ipynb",
      "provenance": []
    },
    "interpreter": {
      "hash": "400ecc5b3f36b8202ff0e75edfee548b71982c682ec890a467f91ce546ab46f3"
    },
    "kernelspec": {
      "display_name": "Python 2",
      "language": "python",
      "name": "python3"
    },
    "language_info": {
      "codemirror_mode": {
        "name": "ipython",
        "version": 3
      },
      "file_extension": ".py",
      "mimetype": "text/x-python",
      "name": "python",
      "nbconvert_exporter": "python",
      "pygments_lexer": "ipython3",
      "version": "3.9.6"
    }
  },
  "nbformat": 4,
  "nbformat_minor": 0
}
